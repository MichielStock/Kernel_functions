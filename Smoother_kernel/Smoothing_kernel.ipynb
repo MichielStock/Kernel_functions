{
 "cells": [
  {
   "cell_type": "markdown",
   "metadata": {},
   "source": [
    "# Smoothing kernel\n",
    "\n",
    "Consider a task kernel which only encodes the notion that all tasks are somewhat related:\n",
    "$$\n",
    "K(x, x') = \\alpha + (1-\\alpha)\\delta(x, x')\\,\n",
    "$$\n",
    "with $\\delta(., .)$ the delta-kernel whose value is 1 if the arguments are equal and 0 otherwise. When $\\alpha=0$ each task is independend (no leaking of the labels) and if it has the value 1, all tasks are equivalent.\n",
    "\n",
    "We need the hat matrix, such that:\n",
    "$$\n",
    "\\hat{\\mathbf{Y}} = \\mathbf{HY}\\,.\n",
    "$$\n",
    "\n",
    "For kernel ridge regression with a regularization parameter $\\lambda$, we can calculate this hat matrix without requirering a matrix inverse.\n",
    "\n",
    "$$\n",
    "\\mathbf{H} = (\\mathbf{1} \\mathbf{1}^\\intercal (1-\\alpha) + (\\alpha+\\lambda)\\mathbf{I})^{-1}(\\mathbf{1} \\mathbf{1}^\\intercal (1-\\alpha) + \\alpha\\mathbf{I})\\\\\n",
    "=(\\mathbf{1} \\mathbf{1}^\\intercal (1-\\alpha) + (\\alpha+\\lambda)\\mathbf{I})^{-1}\\mathbf{1} \\mathbf{1}^\\intercal (1-\\alpha) + (\\mathbf{1} \\mathbf{1}^\\intercal (1-\\alpha) + (\\alpha+\\lambda)\\mathbf{I})^{-1}\\alpha\\mathbf{I}\\\\\n",
    "= \\frac{\\alpha}{\\alpha+\\lambda}\\mathbf{I} + \\mathbf{1}[(1-\\alpha)^{-1} + \\frac{N}{\\alpha +\\lambda})^{-1} - \\frac{\\alpha}{(\\alpha+\\lambda)^2}(\\frac{1}{1-\\alpha} + \\frac{N}{\\alpha+\\lambda})^{-1}]\\mathbf{1}^\\intercal\\\\\n",
    "= \\frac{\\alpha}{\\alpha+\\lambda} \\mathbf{I} + \\mathbf{1} \\mathbf{1}^\\intercal\\frac{\\lambda(\\alpha-1)}{(\\alpha+\\lambda)(N(\\alpha-1)-\\alpha -\\lambda)}\n",
    "$$\n",
    "\n",
    "This derivation is based on the Woodbury identity, some simplifications are done below in Sympy.\n"
   ]
  },
  {
   "cell_type": "markdown",
   "metadata": {},
   "source": [
    "# Derivation"
   ]
  },
  {
   "cell_type": "code",
   "execution_count": 13,
   "metadata": {
    "collapsed": true
   },
   "outputs": [],
   "source": [
    "import sympy as sp\n",
    "sp.init_printing()"
   ]
  },
  {
   "cell_type": "code",
   "execution_count": 14,
   "metadata": {
    "collapsed": true
   },
   "outputs": [],
   "source": [
    "a, l, N = sp.symbols('alpha, lambda, N')"
   ]
  },
  {
   "cell_type": "code",
   "execution_count": 15,
   "metadata": {
    "collapsed": false
   },
   "outputs": [
    {
     "data": {
      "image/png": "[encoded data removed]",
      "text/latex": [
       "$$- \\frac{\\alpha}{\\left(\\alpha + \\lambda\\right)^{2} \\left(\\frac{N}{\\alpha + \\lambda} + \\frac{1}{- \\alpha + 1}\\right)} + \\frac{1}{\\left(\\alpha + \\lambda\\right) \\left(\\frac{N}{\\alpha + \\lambda} + \\frac{1}{- \\alpha + 1}\\right)}$$"
      ],
      "text/plain": [
       "              α                          1            \n",
       "- ───────────────────────── + ────────────────────────\n",
       "         2 ⎛  N       1   ⎞           ⎛  N       1   ⎞\n",
       "  (α + λ) ⋅⎜───── + ──────⎟   (α + λ)⋅⎜───── + ──────⎟\n",
       "           ⎝α + λ   -α + 1⎠           ⎝α + λ   -α + 1⎠"
      ]
     },
     "execution_count": 15,
     "metadata": {},
     "output_type": "execute_result"
    }
   ],
   "source": [
    "expr = 1/(a+l)/(N/(a+l) + 1/(1-a)) - a / (a + l)**2 /(N/(a+l) + 1/(1-a))\n",
    "expr"
   ]
  },
  {
   "cell_type": "code",
   "execution_count": 16,
   "metadata": {
    "collapsed": false
   },
   "outputs": [
    {
     "data": {
      "image/png": "[encoded data removed]",
      "text/latex": [
       "$$\\frac{\\lambda \\left(\\alpha - 1\\right)}{\\left(\\alpha + \\lambda\\right) \\left(N \\left(\\alpha - 1\\right) - \\alpha - \\lambda\\right)}$$"
      ],
      "text/plain": [
       "         λ⋅(α - 1)         \n",
       "───────────────────────────\n",
       "(α + λ)⋅(N⋅(α - 1) - α - λ)"
      ]
     },
     "execution_count": 16,
     "metadata": {},
     "output_type": "execute_result"
    }
   ],
   "source": [
    "expr.simplify()"
   ]
  },
  {
   "cell_type": "code",
   "execution_count": 17,
   "metadata": {
    "collapsed": true
   },
   "outputs": [],
   "source": [
    "weights_smoothing = sp.lambdify((N, a, l), expr)"
   ]
  },
  {
   "cell_type": "markdown",
   "metadata": {},
   "source": [
    "# Numerical tests"
   ]
  },
  {
   "cell_type": "code",
   "execution_count": 18,
   "metadata": {
    "collapsed": false
   },
   "outputs": [],
   "source": [
    "import numpy as np\n",
    "\n",
    "def generate_hat_naive(N, alpha, lambd):\n",
    "    return np.linalg.inv(np.ones((N, N))*(1.0-alpha) + (alpha + lambd) *\\\n",
    "            np.eye(N)).dot(np.ones((N, N))*(1.0-alpha) + (alpha) * np.eye(N))\n",
    "    \n",
    "def generate_hat_shortcut(N, alpha, lambd):\n",
    "    return alpha/(alpha+lambd)*np.eye(N) + np.ones((N, N)) * weights_smoothing(N, alpha, lambd)"
   ]
  },
  {
   "cell_type": "code",
   "execution_count": 30,
   "metadata": {
    "collapsed": false
   },
   "outputs": [
    {
     "name": "stdout",
     "output_type": "stream",
     "text": [
      "mean sq. diff is 6.82199053041e-31\n",
      "mean sq. diff is 2.04984606325e-27\n",
      "mean sq. diff is 5.52408357347e-26\n",
      "mean sq. diff is 4.6141776275e-30\n",
      "mean sq. diff is 2.56047804987e-27\n",
      "mean sq. diff is 9.81572350972e-26\n",
      "mean sq. diff is 1.39741239719e-30\n",
      "mean sq. diff is 1.03720400927e-27\n",
      "mean sq. diff is 1.10763633951e-25\n",
      "mean sq. diff is 1.42796149797e-30\n",
      "mean sq. diff is 1.60257648227e-27\n",
      "mean sq. diff is 2.80026875669e-25\n",
      "mean sq. diff is 4.12762416786e-31\n",
      "mean sq. diff is 4.15217818541e-28\n",
      "mean sq. diff is 4.8296839819e-26\n",
      "mean sq. diff is 9.20209327428e-33\n",
      "mean sq. diff is 7.56422997039e-30\n",
      "mean sq. diff is 1.38213864235e-27\n",
      "mean sq. diff is 5.10371435263e-35\n",
      "mean sq. diff is 9.38769303654e-33\n",
      "mean sq. diff is 1.12088473584e-30\n",
      "mean sq. diff is 2.4164402271e-35\n",
      "mean sq. diff is 3.89835304134e-35\n",
      "mean sq. diff is 2.4072249397e-33\n",
      "mean sq. diff is 6.66505296916e-38\n",
      "mean sq. diff is 7.18283119433e-36\n",
      "mean sq. diff is 4.00715949268e-35\n",
      "mean sq. diff is 4.05912893018e-40\n",
      "mean sq. diff is 4.97319517409e-38\n",
      "mean sq. diff is 4.17497184134e-38\n",
      "mean sq. diff is 6.64711609146e-31\n",
      "mean sq. diff is 9.7331853229e-29\n",
      "mean sq. diff is 4.88844338591e-26\n",
      "mean sq. diff is 3.15579028827e-31\n",
      "mean sq. diff is 7.35656304957e-29\n",
      "mean sq. diff is 3.25996817068e-26\n",
      "mean sq. diff is 1.0792179555e-30\n",
      "mean sq. diff is 4.62483575763e-28\n",
      "mean sq. diff is 1.09580886258e-26\n",
      "mean sq. diff is 2.94424614318e-31\n",
      "mean sq. diff is 1.41000737163e-28\n",
      "mean sq. diff is 1.7672272938e-26\n",
      "mean sq. diff is 2.75978057311e-31\n",
      "mean sq. diff is 4.47248311264e-29\n",
      "mean sq. diff is 3.17801656257e-26\n",
      "mean sq. diff is 1.96560410124e-32\n",
      "mean sq. diff is 3.19367092016e-30\n",
      "mean sq. diff is 3.94002368467e-28\n",
      "mean sq. diff is 4.6992690643e-34\n",
      "mean sq. diff is 7.06818004871e-33\n",
      "mean sq. diff is 4.37121561426e-31\n",
      "mean sq. diff is 9.8402983096e-36\n",
      "mean sq. diff is 1.38203228176e-34\n",
      "mean sq. diff is 2.08411889667e-33\n",
      "mean sq. diff is 1.48112288204e-37\n",
      "mean sq. diff is 4.39365463902e-36\n",
      "mean sq. diff is 1.98503156221e-35\n",
      "mean sq. diff is 3.82035664017e-40\n",
      "mean sq. diff is 1.1156152196e-37\n",
      "mean sq. diff is 6.82264386341e-37\n",
      "mean sq. diff is 2.22857057585e-31\n",
      "mean sq. diff is 4.43865711453e-29\n",
      "mean sq. diff is 5.43120126258e-27\n",
      "mean sq. diff is 1.04732070376e-31\n",
      "mean sq. diff is 4.42777525886e-29\n",
      "mean sq. diff is 1.71499123493e-26\n",
      "mean sq. diff is 1.122008267e-31\n",
      "mean sq. diff is 2.59542052588e-29\n",
      "mean sq. diff is 2.45020110224e-27\n",
      "mean sq. diff is 8.84271474666e-32\n",
      "mean sq. diff is 5.51562209166e-29\n",
      "mean sq. diff is 5.99325055497e-27\n",
      "mean sq. diff is 1.31333014768e-31\n",
      "mean sq. diff is 2.11914613232e-29\n",
      "mean sq. diff is 7.45443402208e-27\n",
      "mean sq. diff is 3.22593265685e-33\n",
      "mean sq. diff is 1.32885995901e-30\n",
      "mean sq. diff is 1.84405621389e-28\n",
      "mean sq. diff is 6.44705048884e-34\n",
      "mean sq. diff is 1.16850996588e-32\n",
      "mean sq. diff is 6.23681847151e-31\n",
      "mean sq. diff is 4.4386666687e-36\n",
      "mean sq. diff is 2.36853271973e-34\n",
      "mean sq. diff is 2.06143392908e-34\n",
      "mean sq. diff is 1.14845798075e-37\n",
      "mean sq. diff is 3.52223951786e-37\n",
      "mean sq. diff is 8.00614715553e-36\n",
      "mean sq. diff is 2.8469003809e-40\n",
      "mean sq. diff is 8.89093417439e-38\n",
      "mean sq. diff is 4.44878326696e-40\n",
      "mean sq. diff is 2.21235424572e-31\n",
      "mean sq. diff is 1.91413556126e-29\n",
      "mean sq. diff is 9.82264201019e-28\n",
      "mean sq. diff is 1.70190577326e-31\n",
      "mean sq. diff is 3.84662544067e-29\n",
      "mean sq. diff is 2.56929454924e-27\n",
      "mean sq. diff is 1.1671135463e-31\n",
      "mean sq. diff is 6.69793764103e-29\n",
      "mean sq. diff is 1.87813112277e-27\n",
      "mean sq. diff is 3.12616948573e-32\n",
      "mean sq. diff is 9.50193575703e-30\n",
      "mean sq. diff is 1.26595901605e-27\n",
      "mean sq. diff is 3.16699920055e-32\n",
      "mean sq. diff is 8.38959712026e-30\n",
      "mean sq. diff is 1.46048804493e-27\n",
      "mean sq. diff is 9.36098249469e-33\n",
      "mean sq. diff is 1.1824661131e-30\n",
      "mean sq. diff is 8.76852505955e-29\n",
      "mean sq. diff is 2.83593184311e-34\n",
      "mean sq. diff is 6.70675371589e-33\n",
      "mean sq. diff is 2.02774980261e-31\n",
      "mean sq. diff is 4.22801808104e-36\n",
      "mean sq. diff is 5.91503491119e-35\n",
      "mean sq. diff is 3.26140217762e-34\n",
      "mean sq. diff is 7.29981991861e-38\n",
      "mean sq. diff is 1.68909134258e-37\n",
      "mean sq. diff is 5.81102344471e-36\n",
      "mean sq. diff is 8.06774833748e-40\n",
      "mean sq. diff is 1.0177071931e-38\n",
      "mean sq. diff is 9.08476351338e-38\n",
      "mean sq. diff is 3.95104528091e-32\n",
      "mean sq. diff is 9.57532163599e-30\n",
      "mean sq. diff is 6.54073095991e-28\n",
      "mean sq. diff is 2.47770887345e-32\n",
      "mean sq. diff is 6.843846498e-30\n",
      "mean sq. diff is 1.05044118794e-27\n",
      "mean sq. diff is 4.10569745544e-32\n",
      "mean sq. diff is 9.39394451787e-30\n",
      "mean sq. diff is 4.39745801272e-28\n",
      "mean sq. diff is 4.96851407053e-32\n",
      "mean sq. diff is 6.10881851552e-30\n",
      "mean sq. diff is 5.5811114808e-28\n",
      "mean sq. diff is 2.22233056283e-32\n",
      "mean sq. diff is 6.15728422088e-30\n",
      "mean sq. diff is 4.81051408628e-28\n",
      "mean sq. diff is 9.73220549147e-33\n",
      "mean sq. diff is 4.19286502968e-31\n",
      "mean sq. diff is 1.64754629231e-29\n",
      "mean sq. diff is 7.99260926921e-35\n",
      "mean sq. diff is 3.019209957e-33\n",
      "mean sq. diff is 1.61228550123e-31\n",
      "mean sq. diff is 1.49710960521e-36\n",
      "mean sq. diff is 8.57434167512e-35\n",
      "mean sq. diff is 2.71549290374e-34\n",
      "mean sq. diff is 1.11084216153e-37\n",
      "mean sq. diff is 8.49488918911e-37\n",
      "mean sq. diff is 1.39619480227e-36\n",
      "mean sq. diff is 3.29230253726e-40\n",
      "mean sq. diff is 2.02385275641e-38\n",
      "mean sq. diff is 1.05913025486e-38\n",
      "mean sq. diff is 3.97536014646e-32\n",
      "mean sq. diff is 1.61563995448e-30\n",
      "mean sq. diff is 4.24489304278e-28\n",
      "mean sq. diff is 4.337434976e-32\n",
      "mean sq. diff is 2.79908404886e-30\n",
      "mean sq. diff is 2.61177065348e-28\n",
      "mean sq. diff is 4.11017524257e-32\n",
      "mean sq. diff is 2.14396985599e-30\n",
      "mean sq. diff is 2.81969590141e-28\n",
      "mean sq. diff is 1.39528809646e-32\n",
      "mean sq. diff is 1.39899069279e-30\n",
      "mean sq. diff is 2.27126661853e-28\n",
      "mean sq. diff is 1.31844349168e-32\n",
      "mean sq. diff is 2.49656145795e-30\n",
      "mean sq. diff is 1.99019563262e-28\n",
      "mean sq. diff is 3.73823002206e-33\n",
      "mean sq. diff is 9.44622604235e-32\n",
      "mean sq. diff is 1.16830940822e-29\n",
      "mean sq. diff is 2.92861722168e-34\n",
      "mean sq. diff is 6.06027711239e-34\n",
      "mean sq. diff is 7.82012310428e-32\n",
      "mean sq. diff is 2.72902768487e-36\n",
      "mean sq. diff is 6.76613796017e-35\n",
      "mean sq. diff is 1.01572825676e-34\n",
      "mean sq. diff is 9.10420374712e-38\n",
      "mean sq. diff is 1.79471421198e-36\n",
      "mean sq. diff is 2.23370086108e-36\n",
      "mean sq. diff is 3.46678997996e-40\n",
      "mean sq. diff is 3.28196507464e-38\n",
      "mean sq. diff is 1.56017989135e-38\n",
      "mean sq. diff is 3.88758588924e-32\n",
      "mean sq. diff is 7.36860670258e-31\n",
      "mean sq. diff is 7.77011391044e-29\n",
      "mean sq. diff is 6.03056813836e-33\n",
      "mean sq. diff is 9.32718533263e-31\n",
      "mean sq. diff is 8.91084729383e-29\n",
      "mean sq. diff is 2.7236982756e-32\n",
      "mean sq. diff is 7.31515525691e-31\n",
      "mean sq. diff is 6.35960011287e-29\n",
      "mean sq. diff is 2.7963058345e-32\n",
      "mean sq. diff is 1.02050795672e-30\n",
      "mean sq. diff is 1.79874215295e-28\n",
      "mean sq. diff is 6.29201312831e-33\n",
      "mean sq. diff is 1.11573201765e-30\n",
      "mean sq. diff is 6.81641448123e-29\n",
      "mean sq. diff is 4.18311983921e-33\n",
      "mean sq. diff is 9.89790719254e-32\n",
      "mean sq. diff is 5.72170023198e-30\n",
      "mean sq. diff is 7.34260791298e-35\n",
      "mean sq. diff is 1.21587779156e-33\n",
      "mean sq. diff is 1.94735797087e-32\n",
      "mean sq. diff is 2.18547909705e-36\n",
      "mean sq. diff is 6.11047166156e-35\n",
      "mean sq. diff is 4.53189633502e-34\n",
      "mean sq. diff is 4.60499911935e-38\n",
      "mean sq. diff is 2.11405459092e-36\n",
      "mean sq. diff is 5.18559466941e-36\n",
      "mean sq. diff is 2.13173145457e-40\n",
      "mean sq. diff is 7.27575901861e-40\n",
      "mean sq. diff is 1.81615330499e-38\n",
      "mean sq. diff is 1.01810675391e-32\n",
      "mean sq. diff is 2.83422687187e-31\n",
      "mean sq. diff is 1.98578982931e-29\n",
      "mean sq. diff is 2.04238852071e-32\n",
      "mean sq. diff is 4.9630578668e-31\n",
      "mean sq. diff is 2.3949959117e-29\n",
      "mean sq. diff is 2.12936833183e-32\n",
      "mean sq. diff is 5.15826113879e-31\n",
      "mean sq. diff is 2.42872627845e-29\n",
      "mean sq. diff is 8.11899842181e-33\n",
      "mean sq. diff is 4.88441177085e-31\n",
      "mean sq. diff is 2.22710083469e-29\n",
      "mean sq. diff is 1.60302371509e-32\n",
      "mean sq. diff is 1.68021002648e-31\n",
      "mean sq. diff is 2.26197065284e-29\n",
      "mean sq. diff is 2.33771784062e-33\n",
      "mean sq. diff is 1.51616176186e-32\n",
      "mean sq. diff is 2.26594639161e-30\n",
      "mean sq. diff is 2.13898594449e-34\n",
      "mean sq. diff is 7.47923684389e-34\n",
      "mean sq. diff is 1.04830663183e-32\n",
      "mean sq. diff is 8.16263277211e-37\n",
      "mean sq. diff is 1.85434468941e-35\n",
      "mean sq. diff is 3.05829211609e-35\n",
      "mean sq. diff is 2.37890669248e-38\n",
      "mean sq. diff is 4.84806122905e-37\n",
      "mean sq. diff is 1.69273910433e-36\n",
      "mean sq. diff is 4.30823271351e-40\n",
      "mean sq. diff is 1.60346498207e-39\n",
      "mean sq. diff is 2.04616076474e-38\n",
      "mean sq. diff is 1.10571023531e-32\n",
      "mean sq. diff is 1.13444487823e-31\n",
      "mean sq. diff is 2.1860060802e-30\n",
      "mean sq. diff is 5.39995397536e-33\n",
      "mean sq. diff is 2.19127021229e-31\n",
      "mean sq. diff is 2.41125715543e-30\n",
      "mean sq. diff is 3.68520224938e-32\n",
      "mean sq. diff is 1.63783250416e-31\n",
      "mean sq. diff is 2.29251015009e-30\n",
      "mean sq. diff is 2.37823007793e-33\n",
      "mean sq. diff is 1.06304743203e-31\n",
      "mean sq. diff is 2.12360977948e-30\n",
      "mean sq. diff is 2.08812032909e-32\n",
      "mean sq. diff is 1.02376441852e-31\n",
      "mean sq. diff is 1.5688192063e-30\n",
      "mean sq. diff is 5.01921417632e-33\n",
      "mean sq. diff is 6.29078497182e-33\n",
      "mean sq. diff is 4.43135536828e-31\n",
      "mean sq. diff is 2.18337261117e-34\n",
      "mean sq. diff is 8.85626095548e-35\n",
      "mean sq. diff is 1.595853508e-33\n",
      "mean sq. diff is 2.00786190064e-36\n",
      "mean sq. diff is 1.56857507731e-35\n",
      "mean sq. diff is 5.99660667246e-35\n",
      "mean sq. diff is 3.06877493962e-38\n",
      "mean sq. diff is 4.35798018545e-37\n",
      "mean sq. diff is 1.49813450404e-37\n",
      "mean sq. diff is 8.17048929881e-41\n",
      "mean sq. diff is 9.52819101372e-41\n",
      "mean sq. diff is 8.74812576491e-39\n"
     ]
    }
   ],
   "source": [
    "N_list=[10, 100, 500]\n",
    "alpha_list=np.linspace(0.1, 0.9, 9)\n",
    "lambd_list=np.logspace(-5, 4, 10)\n",
    "for alpha in alpha_list:\n",
    "    for lambd in lambd_list:\n",
    "        for N in N_list:\n",
    "            the_same = np.allclose(generate_hat_shortcut(N, alpha, lambd), generate_hat_naive(N, alpha, lambd))\n",
    "            assert the_same\n",
    "            print 'mean sq. diff is', np.mean((generate_hat_shortcut(N, alpha, lambd) - generate_hat_naive(N, alpha, lambd))**2)"
   ]
  },
  {
   "cell_type": "code",
   "execution_count": 27,
   "metadata": {
    "collapsed": false
   },
   "outputs": [
    {
     "name": "stdout",
     "output_type": "stream",
     "text": [
      "1000 loops, best of 3: 534 µs per loop\n"
     ]
    }
   ],
   "source": [
    "%timeit generate_hat_naive(100, 0.1, 3)"
   ]
  },
  {
   "cell_type": "code",
   "execution_count": 26,
   "metadata": {
    "collapsed": false
   },
   "outputs": [
    {
     "name": "stdout",
     "output_type": "stream",
     "text": [
      "The slowest run took 5.16 times longer than the fastest. This could mean that an intermediate result is being cached \n",
      "10000 loops, best of 3: 54.8 µs per loop\n"
     ]
    }
   ],
   "source": [
    "%timeit generate_hat_shortcut(100, 0.1, 3)"
   ]
  },
  {
   "cell_type": "code",
   "execution_count": 28,
   "metadata": {
    "collapsed": false
   },
   "outputs": [
    {
     "data": {
      "image/png": "[encoded data removed]",
      "text/latex": [
       "$$0.0389863547758$$"
      ],
      "text/plain": [
       "0.0389863547758"
      ]
     },
     "execution_count": 28,
     "metadata": {},
     "output_type": "execute_result"
    }
   ],
   "source": [
    "weights_smoothing(10, 0.7, 2)"
   ]
  },
  {
   "cell_type": "code",
   "execution_count": null,
   "metadata": {
    "collapsed": true
   },
   "outputs": [],
   "source": []
  }
 ],
 "metadata": {
  "kernelspec": {
   "display_name": "Python 2",
   "language": "python",
   "name": "python2"
  },
  "language_info": {
   "codemirror_mode": {
    "name": "ipython",
    "version": 2
   },
   "file_extension": ".py",
   "mimetype": "text/x-python",
   "name": "python",
   "nbconvert_exporter": "python",
   "pygments_lexer": "ipython2",
   "version": "2.7.6"
  }
 },
 "nbformat": 4,
 "nbformat_minor": 0
}
