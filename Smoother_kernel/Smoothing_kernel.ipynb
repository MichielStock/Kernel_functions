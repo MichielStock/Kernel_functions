{
 "cells": [
  {
   "cell_type": "markdown",
   "metadata": {},
   "source": [
    "# Smoothing kernel\n",
    "\n",
    "Consider a task kernel which only encodes the notion that all tasks are somewhat related:\n",
    "$$\n",
    "K(x, x') = \\alpha + (1-\\alpha)\\delta(x, x')\\,\n",
    "$$\n",
    "with $\\delta(., .)$ the delta-kernel whose value is 1 if the arguments are equal and 0 otherwise. When $\\alpha=0$ each task is independend (no leaking of the labels) and if it has the value 1, all tasks are equivalent.\n",
    "\n",
    "We need the hat matrix, such that:\n",
    "$$\n",
    "\\hat{\\mathbf{Y}} = \\mathbf{HY}\\,.\n",
    "$$\n",
    "\n",
    "For kernel ridge regression with a regularization parameter $\\lambda$, we can calculate this hat matrix without requirering a matrix inverse.\n",
    "\n",
    "$$\n",
    "\\mathbf{H} = (\\mathbf{1} \\mathbf{1}^\\intercal (1-\\alpha) + (\\alpha+\\lambda)\\mathbf{I})^{-1}(\\mathbf{1} \\mathbf{1}^\\intercal (1-\\alpha) + \\alpha\\mathbf{I})\\\\\n",
    "=(\\mathbf{1} \\mathbf{1}^\\intercal (1-\\alpha) + (\\alpha+\\lambda)\\mathbf{I})^{-1}\\mathbf{1} \\mathbf{1}^\\intercal (1-\\alpha) + (\\mathbf{1} \\mathbf{1}^\\intercal (1-\\alpha) + (\\alpha+\\lambda)\\mathbf{I})^{-1}\\alpha\\mathbf{I}\\\\\n",
    "= \\frac{1}{\\alpha+\\lambda}\\mathbf{I} + \\mathbf{1}[\\frac{1-\\alpha}{\\alpha}(\\frac{N}{\\alpha+\\lambda} + \\frac{1}{1-\\alpha})^{-1} - \\frac{\\alpha}{(\\alpha+\\lambda)^2}(\\frac{1}{\\alpha+\\lambda} + \\frac{N}{1-\\alpha})^{-1}]\\mathbf{1}^\\intercal\\\\\n",
    "= \\frac{\\alpha}{\\alpha+\\lambda} \\mathbf{I} + \\mathbf{1} \\mathbf{1}^\\intercal\\frac{\\lambda(\\alpha-1)}{(\\alpha+\\lambda)(N(\\alpha-1)-\\alpha -\\lambda)}\n",
    "$$\n",
    "\n",
    "This derivation is based on the Woodbury identity, some simplifications are done below in Sympy.\n"
   ]
  },
  {
   "cell_type": "markdown",
   "metadata": {},
   "source": [
    "# Derivation"
   ]
  },
  {
   "cell_type": "code",
   "execution_count": 1,
   "metadata": {
    "collapsed": true
   },
   "outputs": [],
   "source": [
    "import sympy as sp\n",
    "sp.init_printing()"
   ]
  },
  {
   "cell_type": "code",
   "execution_count": 2,
   "metadata": {
    "collapsed": true
   },
   "outputs": [],
   "source": [
    "a, l, N = sp.symbols('alpha, lambda, N')"
   ]
  },
  {
   "cell_type": "code",
   "execution_count": 33,
   "metadata": {
    "collapsed": false
   },
   "outputs": [
    {
     "data": {
      "image/png": "[encoded data removed]",
      "text/latex": [
       "$$- \\frac{\\alpha}{\\left(\\alpha + \\lambda\\right)^{2} \\left(\\frac{N}{\\alpha + \\lambda} + \\frac{1}{- \\alpha + 1}\\right)} + \\frac{1}{\\left(\\alpha + \\lambda\\right) \\left(\\frac{N}{\\alpha + \\lambda} + \\frac{1}{- \\alpha + 1}\\right)}$$"
      ],
      "text/plain": [
       "              α                          1            \n",
       "- ───────────────────────── + ────────────────────────\n",
       "         2 ⎛  N       1   ⎞           ⎛  N       1   ⎞\n",
       "  (α + λ) ⋅⎜───── + ──────⎟   (α + λ)⋅⎜───── + ──────⎟\n",
       "           ⎝α + λ   -α + 1⎠           ⎝α + λ   -α + 1⎠"
      ]
     },
     "execution_count": 33,
     "metadata": {},
     "output_type": "execute_result"
    }
   ],
   "source": [
    "expr = 1/(a+l)/(N/(a+l) + 1/(1-a)) - a / (a + l)**2 /(N/(a+l) + 1/(1-a))\n",
    "expr"
   ]
  },
  {
   "cell_type": "code",
   "execution_count": 34,
   "metadata": {
    "collapsed": false
   },
   "outputs": [
    {
     "data": {
      "image/png": "[encoded data removed]",
      "text/latex": [
       "$$\\frac{\\lambda \\left(\\alpha - 1\\right)}{\\left(\\alpha + \\lambda\\right) \\left(N \\left(\\alpha - 1\\right) - \\alpha - \\lambda\\right)}$$"
      ],
      "text/plain": [
       "         λ⋅(α - 1)         \n",
       "───────────────────────────\n",
       "(α + λ)⋅(N⋅(α - 1) - α - λ)"
      ]
     },
     "execution_count": 34,
     "metadata": {},
     "output_type": "execute_result"
    }
   ],
   "source": [
    "expr.simplify()"
   ]
  },
  {
   "cell_type": "code",
   "execution_count": 37,
   "metadata": {
    "collapsed": true
   },
   "outputs": [],
   "source": [
    "weights_smoothing = sp.lambdify((N, a, l), expr)"
   ]
  },
  {
   "cell_type": "markdown",
   "metadata": {},
   "source": [
    "# Numerical tests"
   ]
  },
  {
   "cell_type": "code",
   "execution_count": 43,
   "metadata": {
    "collapsed": false
   },
   "outputs": [],
   "source": [
    "import numpy as np\n",
    "\n",
    "def generate_hat_naive(N, alpha, lambd):\n",
    "    return np.linalg.inv(np.ones((N, N))*(1.0-alpha) + (alpha + lambd) *\\\n",
    "            np.eye(N)).dot(np.ones((N, N))*(1.0-alpha) + (alpha) * np.eye(N))\n",
    "    \n",
    "def generate_hat_shortcut(N, alpha, lambd):\n",
    "    return alpha/(alpha+lambd)*np.eye(N) + np.ones((N, N)) * weights_smoothing(N, alpha, lambd)"
   ]
  },
  {
   "cell_type": "code",
   "execution_count": 54,
   "metadata": {
    "collapsed": false
   },
   "outputs": [],
   "source": [
    "N_list=[10, 100, 1000]\n",
    "alpha_list=np.linspace(0.1, 0.9, 9)\n",
    "lambd_list=np.logspace(-5, 4, 10)\n",
    "for alpha in alpha_list:\n",
    "    for lambd in lambd_list:\n",
    "        for N in N_list:\n",
    "            the_same = np.allclose(generate_hat_shortcut(N, alpha, lambd), generate_hat_naive(N, alpha, lambd))\n",
    "            assert the_same"
   ]
  }
 ],
 "metadata": {
  "kernelspec": {
   "display_name": "Python 2",
   "language": "python",
   "name": "python2"
  },
  "language_info": {
   "codemirror_mode": {
    "name": "ipython",
    "version": 2
   },
   "file_extension": ".py",
   "mimetype": "text/x-python",
   "name": "python",
   "nbconvert_exporter": "python",
   "pygments_lexer": "ipython2",
   "version": "2.7.6"
  }
 },
 "nbformat": 4,
 "nbformat_minor": 0
}
